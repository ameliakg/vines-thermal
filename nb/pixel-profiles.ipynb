{
 "cells": [
  {
   "cell_type": "code",
   "execution_count": null,
   "id": "35dcb892",
   "metadata": {},
   "outputs": [],
   "source": [
    "import os, sys, pimms, pandas, warnings\n",
    "from pathlib import Path\n",
    "\n",
    "import numpy as np \n",
    "import scipy as sp\n",
    "import nibabel as nib\n",
    "import neuropythy as ny\n",
    "\n",
    "import matplotlib as mpl\n",
    "import matplotlib.pyplot as plt\n",
    "#import ipyvolume as ipv - is angry\n",
    "import torch\n",
    "import skimage as ski\n",
    "import sklearn as skl"
   ]
  },
  {
   "cell_type": "code",
   "execution_count": null,
   "id": "fb17ddd2",
   "metadata": {},
   "outputs": [],
   "source": [
    "# Parameters:\n",
    "\n",
    "# How big to make the Guassian for brightness normalization:\n",
    "norm_sigma = 10\n",
    "\n",
    "# What size of Gabors to use (in pixels):\n",
    "gabor_sizes = [4, 6, 8, 12, 16, 24]\n",
    "\n",
    "# What angles of Gabors to use (in radians):\n",
    "gabor_angles = np.arange(8) * np.pi/8\n",
    "\n",
    "# How many clusters to find in the K-Means:\n",
    "n_clusters = 2"
   ]
  },
  {
   "cell_type": "markdown",
   "id": "e4747f52",
   "metadata": {},
   "source": [
    "## Building up a list of plant and non-plant pixels"
   ]
  },
  {
   "cell_type": "markdown",
   "id": "4ebae8af",
   "metadata": {},
   "source": [
    "### Setup (Only run this cell once!)"
   ]
  },
  {
   "cell_type": "code",
   "execution_count": null,
   "id": "8df96caa",
   "metadata": {},
   "outputs": [],
   "source": [
    "# We're going to build up a list of pixels from each image that we\n",
    "# will use as baselines for plants and non-plants!\n",
    "plant_pixels = {}\n",
    "nonplant_pixels = {}"
   ]
  },
  {
   "cell_type": "markdown",
   "id": "0c1b0d98",
   "metadata": {},
   "source": [
    "## Loop (run these cells for each image; change the filename each time)"
   ]
  },
  {
   "cell_type": "code",
   "execution_count": null,
   "id": "02ee7e06",
   "metadata": {},
   "outputs": [],
   "source": [
    "# Look at the image and find pixels that are plant and non-plant!\n",
    "\n",
    "# What image are we loading?\n",
    "filename = 'orig-07.npy'\n",
    "im = np.load(filename)\n",
    "\n",
    "plt.imshow(im)"
   ]
  },
  {
   "cell_type": "code",
   "execution_count": null,
   "id": "cd513bb4-0fe6-4e1f-90e1-08e9cab847c2",
   "metadata": {},
   "outputs": [],
   "source": [
    "import os"
   ]
  },
  {
   "cell_type": "code",
   "execution_count": null,
   "id": "61f771f4-3974-44e2-8d97-e27b4a036021",
   "metadata": {},
   "outputs": [],
   "source": [
    "os.chdir(\"pixel profiles\")"
   ]
  },
  {
   "cell_type": "code",
   "execution_count": null,
   "id": "5dc2c54f-9b24-4e28-be49-fc220597bf60",
   "metadata": {},
   "outputs": [],
   "source": []
  },
  {
   "cell_type": "code",
   "execution_count": null,
   "id": "758d98ac",
   "metadata": {},
   "outputs": [],
   "source": [
    "# Put some pixels from the image plotted above here\n",
    "#                      = (list_of_pixel_rows, list_of_pixel_cols)\n",
    "#plant_pixels[filename] = ([], [])\n",
    "\n",
    "#nonplant_pixels[filename] = ([], [])\n",
    "\n",
    "# We're going to build up a list of pixels from each image that we\n",
    "# will use as baselines for plants and non-plants!\n",
    "plant_pixels = {}\n",
    "nonplant_pixels = {}\n",
    "\n",
    "filename = \"orig-00.npy\"\n",
    "plant_pixels[filename] = ([300, 350, 550], [200, 200, 300] )\n",
    "nonplant_pixels[filename] = ([600, 400, 50], [50, 450, 400])\n",
    "filename = \"orig-01.npy\"\n",
    "plant_pixels[filename] = ([325, 500, 400], [175, 250, 225] )\n",
    "nonplant_pixels[filename] = ([500, 600, 100], [150, 400, 50])\n",
    "filename = \"orig-02.npy\"\n",
    "plant_pixels[filename] = ([200, 500, 200], [200, 300, 350] )\n",
    "nonplant_pixels[filename] = ([600, 500, 100], [200, 50, 450])\n",
    "filename = \"orig-03.npy\"\n",
    "plant_pixels[filename] = ([100, 500, 350], [300, 300, 150])\n",
    "nonplant_pixels[filename] = ([400, 50, 350], [50, 475, 50])\n",
    "filename = \"orig-04.npy\"\n",
    "plant_pixels[filename] = ([200, 400, 300], [150, 250, 175])\n",
    "nonplant_pixels[filename] = ([600, 250, 100], [300, 375, 400])\n",
    "filename = \"orig-05.npy\"\n",
    "plant_pixels[filename] = ([350, 100, 300], [250, 300, 375])\n",
    "nonplant_pixels[filename] = ([500, 600, 100], [150, 400, 450])\n",
    "filename = \"orig-06.npy\"\n",
    "plant_pixels[filename] = ([150, 350, 400], [200, 325, 200])\n",
    "nonplant_pixels[filename] = ([600, 50, 450], [100, 100, 450])\n",
    "filename = \"orig-07.npy\"\n",
    "plant_pixels[filename] = ([300, 230, 325], [400, 200, 300])\n",
    "nonplant_pixels[filename] = ([600, 100, 475], [300, 125, 75])\n",
    "filename = \"orig-08.npy\"\n",
    "plant_pixels[filename] = ([300, 400, 100], [350, 200, 200])\n",
    "nonplant_pixels[filename] = ([600, 100, 350], [400, 350, 25])\n",
    "filename = \"orig-09.npy\"\n",
    "plant_pixels[filename] = ([50, 350, 200], [300, 275, 400])\n",
    "nonplant_pixels[filename] = ([550, 450, 100], [300, 450, 100])\n",
    "filename = \"orig-10.npy\"\n",
    "plant_pixels[filename] = ([250, 450, 100], [200, 300, 350])\n",
    "nonplant_pixels[filename] = ([600, 200, 400], [150, 50, 475])\n",
    "filename = \"orig-11.npy\"\n",
    "plant_pixels[filename] = ([475, 350, 375], [250, 150, 290])\n",
    "nonplant_pixels[filename] = ([550, 200, 100], [300, 100, 50])\n",
    "filename = \"orig-12.npy\"\n",
    "plant_pixels[filename] = ([150, 450, 200], [300, 200, 200])\n",
    "nonplant_pixels[filename] = ([550, 200, 100], [150, 450, 50])"
   ]
  },
  {
   "cell_type": "markdown",
   "id": "a1bf677f",
   "metadata": {},
   "source": [
    "### Finish (Run this after you've extracted the pixels for all images)"
   ]
  },
  {
   "cell_type": "code",
   "execution_count": null,
   "id": "0552580a",
   "metadata": {},
   "outputs": [],
   "source": [
    "# A function to load the filter profiles for all the files/positions listed\n",
    "# in the pixel_dict:\n",
    "def load_profiles(pixel_dict):\n",
    "    result = []\n",
    "    for (filename, pixels) in pixel_dict.items():\n",
    "        (rows, cols) = pixels\n",
    "        bank = np.load(filename.replace('orig', 'bank'))\n",
    "        bank = np.reshape(bank[:, :, rows, cols], (-1, len(rows)))\n",
    "        result.append(bank.T)\n",
    "    return np.vstack(result)"
   ]
  },
  {
   "cell_type": "code",
   "execution_count": null,
   "id": "78100907-876d-400f-b678-2206da333dd8",
   "metadata": {},
   "outputs": [],
   "source": [
    "!pwd"
   ]
  },
  {
   "cell_type": "code",
   "execution_count": null,
   "id": "47f2ebc9",
   "metadata": {},
   "outputs": [],
   "source": [
    "# Plot the profiles of all the pixels:\n",
    "(fig,axs) = plt.subplots(1, 2, figsize=(6,3), dpi=288)\n",
    "for ax in axs:\n",
    "    ax.axis('off')\n",
    "\n",
    "# Load the plant and nonplant profiles:\n",
    "plant_profiles = load_profiles(plant_pixels)\n",
    "nonplant_profiles = load_profiles(nonplant_pixels)\n",
    "# Find the maximum value in either (so we plot with the same range):\n",
    "max_px = np.max([np.max(plant_profiles), np.max(nonplant_profiles)])\n",
    "\n",
    "axs[0].imshow(plant_profiles, vmin=0, vmax=max_px)\n",
    "axs[1].imshow(nonplant_profiles, vmin=0, vmax=max_px)\n",
    "axs[0].axis(\"on\")\n",
    "axs[1].axis(\"on\")\n",
    "\n",
    "plt.show()\n"
   ]
  },
  {
   "cell_type": "code",
   "execution_count": null,
   "id": "04c38c5d-b4f6-4ddd-b019-db865b5c4633",
   "metadata": {},
   "outputs": [],
   "source": [
    "plant_profiles.shape"
   ]
  }
 ],
 "metadata": {
  "kernelspec": {
   "display_name": "Python 3 (ipykernel)",
   "language": "python",
   "name": "python3"
  },
  "language_info": {
   "codemirror_mode": {
    "name": "ipython",
    "version": 3
   },
   "file_extension": ".py",
   "mimetype": "text/x-python",
   "name": "python",
   "nbconvert_exporter": "python",
   "pygments_lexer": "ipython3",
   "version": "3.11.13"
  }
 },
 "nbformat": 4,
 "nbformat_minor": 5
}
